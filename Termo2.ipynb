{
  "nbformat": 4,
  "nbformat_minor": 0,
  "metadata": {
    "colab": {
      "name": "Termo2.ipynb",
      "provenance": [],
      "authorship_tag": "ABX9TyNRx0YrM76vaSeNOfIFxNTj",
      "include_colab_link": true
    },
    "kernelspec": {
      "name": "python3",
      "display_name": "Python 3"
    },
    "language_info": {
      "name": "python"
    }
  },
  "cells": [
    {
      "cell_type": "markdown",
      "metadata": {
        "id": "view-in-github",
        "colab_type": "text"
      },
      "source": [
        "<a href=\"https://colab.research.google.com/github/HardProxy/Termofisica/blob/main/Termo2.ipynb\" target=\"_parent\"><img src=\"https://colab.research.google.com/assets/colab-badge.svg\" alt=\"Open In Colab\"/></a>"
      ]
    },
    {
      "cell_type": "code",
      "metadata": {
        "id": "WU5MRHgVoSl3"
      },
      "source": [
        "import numpy as np\n",
        "import matplotlib.pyplot as plt"
      ],
      "execution_count": null,
      "outputs": []
    },
    {
      "cell_type": "code",
      "metadata": {
        "id": "0FFu6q5Jou0l"
      },
      "source": [
        "x = np.linspace(0.001,50,2000)\n",
        "L = np.exp(x) - 1\n",
        "I = x**2 / L"
      ],
      "execution_count": null,
      "outputs": []
    },
    {
      "cell_type": "code",
      "metadata": {
        "colab": {
          "base_uri": "https://localhost:8080/"
        },
        "id": "AhtWC0-6oAh3",
        "outputId": "054c6b04-a766-4e18-feab-c9131f9a6095"
      },
      "source": [
        "phot_per_vol = np.trapz(I,x=x)\n",
        "print(phot_per_vol)"
      ],
      "execution_count": null,
      "outputs": [
        {
          "output_type": "stream",
          "text": [
            "2.4040612255076037\n"
          ],
          "name": "stdout"
        }
      ]
    },
    {
      "cell_type": "code",
      "metadata": {
        "colab": {
          "base_uri": "https://localhost:8080/",
          "height": 283
        },
        "id": "lRbZ9pjYs8qe",
        "outputId": "883100da-afc5-4e8f-f119-81cc37e33cc5"
      },
      "source": [
        "plt.plot(x,I)"
      ],
      "execution_count": null,
      "outputs": [
        {
          "output_type": "execute_result",
          "data": {
            "text/plain": [
              "[<matplotlib.lines.Line2D at 0x7f43482969d0>]"
            ]
          },
          "metadata": {
            "tags": []
          },
          "execution_count": 18
        },
        {
          "output_type": "display_data",
          "data": {
            "image/png": "[encoded data removed]",
            "text/plain": [
              "<Figure size 432x288 with 1 Axes>"
            ]
          },
          "metadata": {
            "tags": [],
            "needs_background": "light"
          }
        }
      ]
    },
    {
      "cell_type": "code",
      "metadata": {
        "colab": {
          "base_uri": "https://localhost:8080/"
        },
        "id": "lvenjmPSDOHh",
        "outputId": "66979d9e-10eb-4c09-b941-4e0a6c63ff68"
      },
      "source": [
        "k = 8.61 * 10.0**(-5.0)\n",
        "h = 6.58 * 10 **(-16)\n",
        "T = 3.0\n",
        "c = 2.9 * 10 ** 8\n",
        "b = 1 / (k*T)\n",
        "N_per_V = 2*phot_per_vol*np.pi / (b*h*c)**3 \n",
        "print(N_per_V)\n"
      ],
      "execution_count": null,
      "outputs": [
        {
          "output_type": "stream",
          "text": [
            "37465103458.13718\n"
          ],
          "name": "stdout"
        }
      ]
    }
  ]
}